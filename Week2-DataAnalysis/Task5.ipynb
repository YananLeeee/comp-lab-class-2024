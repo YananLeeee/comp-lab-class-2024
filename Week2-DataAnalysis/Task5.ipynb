{
 "cells": [
  {
   "cell_type": "code",
   "execution_count": 18,
   "id": "d6b8fac5-8383-449e-9088-f7be643053ba",
   "metadata": {},
   "outputs": [
    {
     "ename": "AttributeError",
     "evalue": "module 'mdtraj' has no attribute 'writers'",
     "output_type": "error",
     "traceback": [
      "\u001b[0;31m---------------------------------------------------------------------------\u001b[0m",
      "\u001b[0;31mAttributeError\u001b[0m                            Traceback (most recent call last)",
      "Cell \u001b[0;32mIn[18], line 19\u001b[0m\n\u001b[1;32m     16\u001b[0m     \u001b[38;5;28;01mreturn\u001b[39;00m hbonds\n\u001b[1;32m     18\u001b[0m \u001b[38;5;66;03m# Compute hydrogen bonds\u001b[39;00m\n\u001b[0;32m---> 19\u001b[0m hbonds_analysis \u001b[38;5;241m=\u001b[39m compute_hydrogen_bonds(ubiquitin)\n\u001b[1;32m     20\u001b[0m \u001b[38;5;28mprint\u001b[39m(\u001b[38;5;124mf\u001b[39m\u001b[38;5;124m'\u001b[39m\u001b[38;5;124mTotal number of hydrogen bonds: \u001b[39m\u001b[38;5;132;01m{\u001b[39;00m\u001b[38;5;28mlen\u001b[39m(hbonds_analysis)\u001b[38;5;132;01m}\u001b[39;00m\u001b[38;5;124m'\u001b[39m)\n\u001b[1;32m     21\u001b[0m \u001b[38;5;66;03m# Compute secondary structure using DSSP\u001b[39;00m\n",
      "Cell \u001b[0;32mIn[18], line 15\u001b[0m, in \u001b[0;36mcompute_hydrogen_bonds\u001b[0;34m(traj, distance_cutoff, angle_cutoff)\u001b[0m\n\u001b[1;32m     13\u001b[0m \u001b[38;5;28;01mdef\u001b[39;00m \u001b[38;5;21mcompute_hydrogen_bonds\u001b[39m(traj, distance_cutoff\u001b[38;5;241m=\u001b[39m\u001b[38;5;241m3.5\u001b[39m, angle_cutoff\u001b[38;5;241m=\u001b[39m\u001b[38;5;241m120.0\u001b[39m):\n\u001b[1;32m     14\u001b[0m     \u001b[38;5;66;03m# Compute hydrogen bonds\u001b[39;00m\n\u001b[0;32m---> 15\u001b[0m     hbonds \u001b[38;5;241m=\u001b[39m md\u001b[38;5;241m.\u001b[39mwriters\u001b[38;5;241m.\u001b[39mhbond_analysis\u001b[38;5;241m.\u001b[39mHBondsAnalysis(traj, cutoff\u001b[38;5;241m=\u001b[39mdistance_cutoff, angle_cutoff\u001b[38;5;241m=\u001b[39mangle_cutoff)\n\u001b[1;32m     16\u001b[0m     \u001b[38;5;28;01mreturn\u001b[39;00m hbonds\n",
      "\u001b[0;31mAttributeError\u001b[0m: module 'mdtraj' has no attribute 'writers'"
     ]
    }
   ],
   "source": [
    "# Import necessary libraries\n",
    "import mdtraj as md\n",
    "import numpy as np\n",
    "\n",
    "# Load the ubiquitin structure\n",
    "# Assuming you have a file named 'ubiquitin.pdb' in your working directory\n",
    "# You can replace 'ubiquitin.pdb' with the path to your own ubiquitin structure file\n",
    "ubiquitin = md.load('1UBQ_processed.pdb')\n",
    "\n",
    "# Display basic information about the loaded structure\n",
    "ubiquitin\n",
    "# Define a function to compute hydrogen bonds\n",
    "def compute_hydrogen_bonds(traj, distance_cutoff=3.5, angle_cutoff=120.0):\n",
    "    # Compute hydrogen bonds\n",
    "    hbonds = md.writers.hbond_analysis.HBondsAnalysis(traj, cutoff=distance_cutoff, angle_cutoff=angle_cutoff)\n",
    "    return hbonds\n",
    "\n",
    "# Compute hydrogen bonds\n",
    "hbonds_analysis = compute_hydrogen_bonds(ubiquitin)\n",
    "print(f'Total number of hydrogen bonds: {len(hbonds_analysis)}')\n",
    "# Compute secondary structure using DSSP\n",
    "secondary_structure = md.compute_dssp(ubiquitin)\n",
    "\n",
    "# Calculate the number of helical amino acids\n",
    "helix_count = np.sum(secondary_structure == 'H')  # 'H' represents alpha helices\n",
    "print(f'Number of helical amino acids: {helix_count}')\n"
   ]
  },
  {
   "cell_type": "code",
   "execution_count": 20,
   "id": "5d687dfc-1cfa-4590-80a8-72893149289a",
   "metadata": {},
   "outputs": [
    {
     "ename": "TypeError",
     "evalue": "compute_contacts() got an unexpected keyword argument 'cutoff'",
     "output_type": "error",
     "traceback": [
      "\u001b[0;31m---------------------------------------------------------------------------\u001b[0m",
      "\u001b[0;31mTypeError\u001b[0m                                 Traceback (most recent call last)",
      "Cell \u001b[0;32mIn[20], line 34\u001b[0m\n\u001b[1;32m     31\u001b[0m     \u001b[38;5;28;01mreturn\u001b[39;00m np\u001b[38;5;241m.\u001b[39msum(hbond_mask)\n\u001b[1;32m     33\u001b[0m \u001b[38;5;66;03m# Compute hydrogen bonds\u001b[39;00m\n\u001b[0;32m---> 34\u001b[0m num_hbonds \u001b[38;5;241m=\u001b[39m compute_hydrogen_bonds(ubiquitin, distance_cutoff, angle_cutoff)\n\u001b[1;32m     35\u001b[0m \u001b[38;5;28mprint\u001b[39m(\u001b[38;5;124mf\u001b[39m\u001b[38;5;124m'\u001b[39m\u001b[38;5;124mTotal number of hydrogen bonds (approximate): \u001b[39m\u001b[38;5;132;01m{\u001b[39;00mnum_hbonds\u001b[38;5;132;01m}\u001b[39;00m\u001b[38;5;124m'\u001b[39m)\n\u001b[1;32m     36\u001b[0m \u001b[38;5;66;03m# Compute secondary structure using DSSP\u001b[39;00m\n",
      "Cell \u001b[0;32mIn[20], line 17\u001b[0m, in \u001b[0;36mcompute_hydrogen_bonds\u001b[0;34m(traj, distance_cutoff, angle_cutoff)\u001b[0m\n\u001b[1;32m     15\u001b[0m \u001b[38;5;28;01mdef\u001b[39;00m \u001b[38;5;21mcompute_hydrogen_bonds\u001b[39m(traj, distance_cutoff, angle_cutoff):\n\u001b[1;32m     16\u001b[0m     \u001b[38;5;66;03m# Get all atom pairs\u001b[39;00m\n\u001b[0;32m---> 17\u001b[0m     pairs, distances \u001b[38;5;241m=\u001b[39m md\u001b[38;5;241m.\u001b[39mcompute_contacts(traj, cutoff\u001b[38;5;241m=\u001b[39mdistance_cutoff)\n\u001b[1;32m     19\u001b[0m     \u001b[38;5;66;03m# Calculate angles between donor, hydrogen, and acceptor\u001b[39;00m\n\u001b[1;32m     20\u001b[0m     \u001b[38;5;66;03m# This part of the code is simplified and assumes a pre-defined list of donors and acceptors\u001b[39;00m\n\u001b[1;32m     21\u001b[0m     \n\u001b[1;32m     22\u001b[0m     \u001b[38;5;66;03m# Create a mask to identify potential hydrogen bonds\u001b[39;00m\n\u001b[1;32m     23\u001b[0m     hbond_mask \u001b[38;5;241m=\u001b[39m np\u001b[38;5;241m.\u001b[39mzeros(\u001b[38;5;28mlen\u001b[39m(pairs), dtype\u001b[38;5;241m=\u001b[39m\u001b[38;5;28mbool\u001b[39m)\n",
      "\u001b[0;31mTypeError\u001b[0m: compute_contacts() got an unexpected keyword argument 'cutoff'"
     ]
    }
   ],
   "source": [
    "# Import necessary libraries\n",
    "import mdtraj as md\n",
    "import numpy as np\n",
    "# Load the ubiquitin structure\n",
    "ubiquitin = md.load('1UBQ_processed.pdb')\n",
    "\n",
    "# Display basic information about the loaded structure\n",
    "ubiquitin\n",
    "# Define hydrogen bond parameters\n",
    "distance_cutoff = 3.5  # in angstroms\n",
    "angle_cutoff = 120.0   # in degrees\n",
    "\n",
    "# Get the atom indices for hydrogen bonds\n",
    "# Note: This is a simplified approach and might not be as accurate\n",
    "def compute_hydrogen_bonds(traj, distance_cutoff, angle_cutoff):\n",
    "    # Get all atom pairs\n",
    "    pairs, distances = md.compute_contacts(traj, cutoff=distance_cutoff)\n",
    "    \n",
    "    # Calculate angles between donor, hydrogen, and acceptor\n",
    "    # This part of the code is simplified and assumes a pre-defined list of donors and acceptors\n",
    "    \n",
    "    # Create a mask to identify potential hydrogen bonds\n",
    "    hbond_mask = np.zeros(len(pairs), dtype=bool)\n",
    "    \n",
    "    for i, (pair, dist) in enumerate(zip(pairs, distances)):\n",
    "        if dist < distance_cutoff:\n",
    "            # Here we would typically also compute the angle between donor-hydrogen-acceptor\n",
    "            # For simplicity, we only use the distance\n",
    "            hbond_mask[i] = True\n",
    "    \n",
    "    return np.sum(hbond_mask)\n",
    "\n",
    "# Compute hydrogen bonds\n",
    "num_hbonds = compute_hydrogen_bonds(ubiquitin, distance_cutoff, angle_cutoff)\n",
    "print(f'Total number of hydrogen bonds (approximate): {num_hbonds}')\n",
    "# Compute secondary structure using DSSP\n",
    "secondary_structure = md.compute_dssp(ubiquitin)\n",
    "\n",
    "# Calculate the number of helical amino acids\n",
    "helix_count = np.sum(secondary_structure == 'H')  # 'H' represents alpha helices\n",
    "print(f'Number of helical amino acids: {helix_count}')\n"
   ]
  },
  {
   "cell_type": "code",
   "execution_count": 22,
   "id": "47ddedfe-0d17-4045-babc-458a8d0f9b0a",
   "metadata": {},
   "outputs": [
    {
     "ename": "TypeError",
     "evalue": "compute_contacts() got an unexpected keyword argument 'cutoff'",
     "output_type": "error",
     "traceback": [
      "\u001b[0;31m---------------------------------------------------------------------------\u001b[0m",
      "\u001b[0;31mTypeError\u001b[0m                                 Traceback (most recent call last)",
      "Cell \u001b[0;32mIn[22], line 13\u001b[0m\n\u001b[1;32m     10\u001b[0m distance_cutoff \u001b[38;5;241m=\u001b[39m \u001b[38;5;241m3.5\u001b[39m  \u001b[38;5;66;03m# in angstroms\u001b[39;00m\n\u001b[1;32m     12\u001b[0m \u001b[38;5;66;03m# Get all atom pairs\u001b[39;00m\n\u001b[0;32m---> 13\u001b[0m pairs, distances \u001b[38;5;241m=\u001b[39m md\u001b[38;5;241m.\u001b[39mcompute_contacts(ubiquitin, scheme\u001b[38;5;241m=\u001b[39m\u001b[38;5;124m'\u001b[39m\u001b[38;5;124mclosest\u001b[39m\u001b[38;5;124m'\u001b[39m, cutoff\u001b[38;5;241m=\u001b[39mdistance_cutoff)\n\u001b[1;32m     15\u001b[0m \u001b[38;5;66;03m# Count the number of pairs that are below the distance cutoff\u001b[39;00m\n\u001b[1;32m     16\u001b[0m num_hbonds \u001b[38;5;241m=\u001b[39m np\u001b[38;5;241m.\u001b[39msum(distances \u001b[38;5;241m<\u001b[39m distance_cutoff)\n",
      "\u001b[0;31mTypeError\u001b[0m: compute_contacts() got an unexpected keyword argument 'cutoff'"
     ]
    }
   ],
   "source": [
    "# Import necessary libraries\n",
    "import mdtraj as md\n",
    "import numpy as np\n",
    "# Load the ubiquitin structure\n",
    "ubiquitin = md.load('1UBQ_processed.pdb')\n",
    "\n",
    "# Display basic information about the loaded structure\n",
    "ubiquitin\n",
    "# Define hydrogen bond parameters\n",
    "distance_cutoff = 3.5  # in angstroms\n",
    "\n",
    "# Get all atom pairs\n",
    "pairs, distances = md.compute_contacts(ubiquitin, scheme='closest', cutoff=distance_cutoff)\n",
    "\n",
    "# Count the number of pairs that are below the distance cutoff\n",
    "num_hbonds = np.sum(distances < distance_cutoff)\n",
    "print(f'Total number of hydrogen bonds (approximate): {num_hbonds}')\n",
    "# Compute secondary structure using DSSP\n",
    "secondary_structure = md.compute_dssp(ubiquitin)\n",
    "\n",
    "# Calculate the number of helical amino acids\n",
    "helix_count = np.sum(secondary_structure == 'H')  # 'H' represents alpha helices\n",
    "print(f'Number of helical amino acids: {helix_count}')\n",
    "\n"
   ]
  },
  {
   "cell_type": "code",
   "execution_count": 24,
   "id": "99ccba9f-d2d2-4e67-9a69-47df318c842b",
   "metadata": {},
   "outputs": [
    {
     "name": "stdout",
     "output_type": "stream",
     "text": [
      "Total number of hydrogen bonds (approximate): 287\n",
      "Number of helical amino acids: 18\n"
     ]
    }
   ],
   "source": [
    "# Import necessary libraries\n",
    "import mdtraj as md\n",
    "import numpy as np\n",
    "# Load the ubiquitin structure\n",
    "ubiquitin = md.load('1UBQ_processed.pdb')\n",
    "\n",
    "# Display basic information about the loaded structure\n",
    "ubiquitin\n",
    "# Define hydrogen bond parameters\n",
    "distance_cutoff = 3.5  # in angstroms\n",
    "\n",
    "# Compute contacts (without cutoff parameter)\n",
    "pairs, distances = md.compute_contacts(ubiquitin, scheme='closest')\n",
    "\n",
    "# Filter pairs based on distance cutoff\n",
    "hbonds_mask = distances < distance_cutoff\n",
    "\n",
    "# Count the number of hydrogen bonds (or close contacts)\n",
    "num_hbonds = np.sum(hbonds_mask)\n",
    "print(f'Total number of hydrogen bonds (approximate): {num_hbonds}')\n",
    "# Compute secondary structure using DSSP\n",
    "secondary_structure = md.compute_dssp(ubiquitin)\n",
    "\n",
    "# Calculate the number of helical amino acids\n",
    "helix_count = np.sum(secondary_structure == 'H')  # 'H' represents alpha helices\n",
    "print(f'Number of helical amino acids: {helix_count}')\n"
   ]
  },
  {
   "cell_type": "code",
   "execution_count": 5,
   "id": "de653d1d-0162-4afb-9c61-1812fd80d66d",
   "metadata": {},
   "outputs": [
    {
     "name": "stdout",
     "output_type": "stream",
     "text": [
      "Total number of hydrogen bonds: 57\n",
      "Number of helical amino acids: 18\n"
     ]
    }
   ],
   "source": [
    "# Import necessary libraries\n",
    "import mdtraj as md\n",
    "import numpy as np\n",
    "# Load the ubiquitin structure\n",
    "ubiquitin = md.load('1UBQ_processed.pdb')\n",
    "\n",
    "# Display basic information about the loaded structure\n",
    "ubiquitin\n",
    "# b) Compute and print the total number of hydrogen bonds\n",
    "hbonds = md.baker_hubbard(ubiquitin, periodic=False)\n",
    "print(f\"Total number of hydrogen bonds: {len(hbonds)}\")\\\n",
    "\n",
    "# Compute secondary structure using DSSP\n",
    "secondary_structure = md.compute_dssp(ubiquitin)\n",
    "\n",
    "# Calculate the number of helical amino acids\n",
    "helix_count = np.sum(secondary_structure == 'H')  # 'H' represents alpha helices\n",
    "print(f'Number of helical amino acids: {helix_count}')\n"
   ]
  },
  {
   "cell_type": "code",
   "execution_count": null,
   "id": "56e69e71-25bd-4bb6-a5d9-4bb6c52ee1a1",
   "metadata": {},
   "outputs": [],
   "source": []
  }
 ],
 "metadata": {
  "kernelspec": {
   "display_name": "Python 3 (ipykernel)",
   "language": "python",
   "name": "python3"
  },
  "language_info": {
   "codemirror_mode": {
    "name": "ipython",
    "version": 3
   },
   "file_extension": ".py",
   "mimetype": "text/x-python",
   "name": "python",
   "nbconvert_exporter": "python",
   "pygments_lexer": "ipython3",
   "version": "3.11.7"
  }
 },
 "nbformat": 4,
 "nbformat_minor": 5
}
